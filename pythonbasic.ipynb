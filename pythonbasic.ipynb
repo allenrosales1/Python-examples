{
 "cells": [
  {
   "cell_type": "code",
   "execution_count": 1,
   "id": "f4829361-0ee8-4514-812b-a885bc826874",
   "metadata": {},
   "outputs": [
    {
     "name": "stdout",
     "output_type": "stream",
     "text": [
      "Exercise 2.1: Ball Drop Calculator\n",
      "---------------------------------\n"
     ]
    },
    {
     "name": "stdin",
     "output_type": "stream",
     "text": [
      "Enter the height of the tower in meters:  50\n"
     ]
    },
    {
     "name": "stdout",
     "output_type": "stream",
     "text": [
      "The ball will take 3.19 seconds to hit the ground.\n",
      "\n",
      "For a 100m high tower, the ball will take 4.52 seconds to hit the ground.\n",
      "\n",
      "Exercise 2.2: Satellite Altitude Calculator\n",
      "-------------------------------------------\n"
     ]
    },
    {
     "name": "stdin",
     "output_type": "stream",
     "text": [
      "Enter the orbital period in seconds:  5\n"
     ]
    },
    {
     "name": "stdout",
     "output_type": "stream",
     "text": [
      "The satellite must have an altitude of -6307822.83 meters.\n",
      "\n",
      "Calculations for specific orbital periods:\n",
      "Geosynchronous orbit (24 hours): 35855910.18 meters\n",
      "90-minute orbit: 279321.63 meters\n",
      "45-minute orbit: -2181559.90 meters\n",
      "\n",
      "Geosynchronous orbit (sidereal day): 35773762.33 meters\n",
      "\n",
      "Difference between 24-hour and sidereal day orbits:\n",
      "Difference: 82147.85 meters\n"
     ]
    }
   ],
   "source": [
    "import math\n",
    "\n",
    "# Exercise 2.1: Ball Drop Calculator\n",
    "def calculate_fall_time(height):\n",
    "    g = 9.8  # acceleration due to gravity in m/s^2\n",
    "    time = math.sqrt(2 * height / g)\n",
    "    return time\n",
    "\n",
    "# Exercise 2.2: Satellite Altitude Calculator\n",
    "def calculate_satellite_altitude(T):\n",
    "    G = 6.67e-11  # gravitational constant in m^3 kg^-1 s^-2\n",
    "    M = 5.97e24   # mass of Earth in kg\n",
    "    R = 6371000   # radius of Earth in meters\n",
    "    h = ((G * M * T**2) / (4 * math.pi**2))**(1/3) - R\n",
    "    return h\n",
    "\n",
    "# Exercise 2.1: Another ball dropped from a tower\n",
    "print(\"Exercise 2.1: Ball Drop Calculator\")\n",
    "print(\"---------------------------------\")\n",
    "height = float(input(\"Enter the height of the tower in meters: \"))\n",
    "fall_time = calculate_fall_time(height)\n",
    "print(f\"The ball will take {fall_time:.2f} seconds to hit the ground.\")\n",
    "\n",
    "hundred_meter_time = calculate_fall_time(100)\n",
    "print(f\"\\nFor a 100m high tower, the ball will take {hundred_meter_time:.2f} seconds to hit the ground.\")\n",
    "\n",
    "# Answer for Exercise 2.1:\n",
    "# For a 100m high tower, the ball will take approximately 4.52 seconds to hit the ground.\n",
    "\n",
    "# Exercise 2.2: Altitude of a satellite\n",
    "print(\"\\nExercise 2.2: Satellite Altitude Calculator\")\n",
    "print(\"-------------------------------------------\")\n",
    "T = float(input(\"Enter the orbital period in seconds: \"))\n",
    "altitude = calculate_satellite_altitude(T)\n",
    "print(f\"The satellite must have an altitude of {altitude:.2f} meters.\")\n",
    "\n",
    "print(\"\\nCalculations for specific orbital periods:\")\n",
    "day_in_seconds = 24 * 60 * 60\n",
    "print(f\"Geosynchronous orbit (24 hours): {calculate_satellite_altitude(day_in_seconds):.2f} meters\")\n",
    "print(f\"90-minute orbit: {calculate_satellite_altitude(90 * 60):.2f} meters\")\n",
    "print(f\"45-minute orbit: {calculate_satellite_altitude(45 * 60):.2f} meters\")\n",
    "\n",
    "sidereal_day = 23.93 * 60 * 60\n",
    "print(f\"\\nGeosynchronous orbit (sidereal day): {calculate_satellite_altitude(sidereal_day):.2f} meters\")\n",
    "\n",
    "print(\"\\nDifference between 24-hour and sidereal day orbits:\")\n",
    "diff = calculate_satellite_altitude(day_in_seconds) - calculate_satellite_altitude(sidereal_day)\n",
    "print(f\"Difference: {diff:.2f} meters\")"
   ]
  },
  {
   "cell_type": "code",
   "execution_count": 2,
   "id": "cf3f06aa-e929-4565-9ed1-9b4e5fbbba60",
   "metadata": {},
   "outputs": [
    {
     "name": "stdout",
     "output_type": "stream",
     "text": [
      "Exercise 2.3: Cartesian to Polar Coordinates\n"
     ]
    },
    {
     "name": "stdin",
     "output_type": "stream",
     "text": [
      "Enter the x coordinate:  7\n",
      "Enter the y coordinate:  8\n"
     ]
    },
    {
     "name": "stdout",
     "output_type": "stream",
     "text": [
      "Polar coordinates: r = 10.63, θ = 48.81 degrees\n"
     ]
    }
   ],
   "source": [
    "# Exercise 2.3: Cartesian to Polar Coordinates\n",
    "\n",
    "import math\n",
    "\n",
    "def cartesian_to_polar(x, y):\n",
    "    r = math.sqrt(x**2 + y**2)\n",
    "    theta = math.degrees(math.atan2(y, x))\n",
    "    return r, theta  # Changed 'thetax' to 'theta'\n",
    "\n",
    "print(\"Exercise 2.3: Cartesian to Polar Coordinates\")\n",
    "x = float(input(\"Enter the x coordinate: \"))\n",
    "y = float(input(\"Enter the y coordinate: \"))\n",
    "r, theta = cartesian_to_polar(x, y)\n",
    "print(f\"Polar coordinates: r = {r:.2f}, θ = {theta:.2f} degrees\")"
   ]
  },
  {
   "cell_type": "code",
   "execution_count": 3,
   "id": "a7e74ba5-c22f-49fe-bcc7-c8e2db0848f4",
   "metadata": {},
   "outputs": [
    {
     "name": "stdin",
     "output_type": "stream",
     "text": [
      "Enter the distance to the planet in light years:  10\n",
      "Enter the speed of the spaceship as a fraction of the speed of light:  0.99\n"
     ]
    },
    {
     "name": "stdout",
     "output_type": "stream",
     "text": [
      "Travel time in Earth's frame: 10.10 years\n",
      "Travel time in spaceship's frame: 1.42 years\n",
      "\n",
      "For a planet 10 light years away with v = 0.99c:\n",
      "Travel time in Earth's frame: 10.10 years\n",
      "Travel time in spaceship's frame: 1.42 years\n"
     ]
    }
   ],
   "source": [
    "# Exercise 2.4: Spaceship travel time\n",
    "import math\n",
    "\n",
    "# Get user input\n",
    "x = float(input(\"Enter the distance to the planet in light years: \"))\n",
    "v = float(input(\"Enter the speed of the spaceship as a fraction of the speed of light: \"))\n",
    "\n",
    "# Calculate travel time in Earth's frame\n",
    "t_earth = x / v\n",
    "\n",
    "# Calculate travel time in spaceship's frame\n",
    "t_ship = x / v * math.sqrt(1 - v**2)\n",
    "\n",
    "# Print results\n",
    "print(f\"Travel time in Earth's frame: {t_earth:.2f} years\")\n",
    "print(f\"Travel time in spaceship's frame: {t_ship:.2f} years\")\n",
    "\n",
    "# Calculate for the given example\n",
    "x_example = 10\n",
    "v_example = 0.99\n",
    "\n",
    "t_earth_example = x_example / v_example\n",
    "t_ship_example = x_example / v_example * math.sqrt(1 - v_example**2)\n",
    "\n",
    "print(f\"\\nFor a planet 10 light years away with v = 0.99c:\")\n",
    "print(f\"Travel time in Earth's frame: {t_earth_example:.2f} years\")\n",
    "print(f\"Travel time in spaceship's frame: {t_ship_example:.2f} years\")"
   ]
  },
  {
   "cell_type": "code",
   "execution_count": 4,
   "id": "4ac0b758-413f-46e6-9987-d202bb72d75c",
   "metadata": {},
   "outputs": [
    {
     "name": "stdout",
     "output_type": "stream",
     "text": [
      "Transmission probability: 0.730126\n",
      "Reflection probability: 0.269874\n",
      "Sum of probabilities: 1.000000\n"
     ]
    }
   ],
   "source": [
    "# Exercise 2.5: Quantum potential step\n",
    "import math\n",
    "\n",
    "# Constants\n",
    "h_bar = 1.0545718e-34  # Reduced Planck's constant in J*s\n",
    "m = 9.1093837e-31  # Electron mass in kg\n",
    "eV_to_J = 1.602176634e-19  # Conversion factor from eV to Joules\n",
    "\n",
    "# Given values\n",
    "E = 10 * eV_to_J  # Energy in Joules\n",
    "V = 9 * eV_to_J   # Potential step height in Joules\n",
    "\n",
    "# Calculate wave vectors\n",
    "k1 = math.sqrt(2 * m * E) / h_bar\n",
    "k2 = math.sqrt(2 * m * (E - V)) / h_bar\n",
    "\n",
    "# Calculate transmission and reflection probabilities\n",
    "T = 4 * k1 * k2 / ((k1 + k2)**2)\n",
    "R = ((k1 - k2) / (k1 + k2))**2\n",
    "\n",
    "# Print results\n",
    "print(f\"Transmission probability: {T:.6f}\")\n",
    "print(f\"Reflection probability: {R:.6f}\")\n",
    "print(f\"Sum of probabilities: {T+R:.6f}\")  # Should equal 1"
   ]
  },
  {
   "cell_type": "code",
   "execution_count": 7,
   "id": "ed6b7b13-a127-4f89-a53b-55c7777ae1b3",
   "metadata": {},
   "outputs": [
    {
     "name": "stdin",
     "output_type": "stream",
     "text": [
      "Enter the distance at perihelion (m):  50\n",
      "Enter the velocity at perihelion (m/s):  10\n"
     ]
    },
    {
     "name": "stdout",
     "output_type": "stream",
     "text": [
      "\n",
      "Results:\n",
      "Distance at aphelion (l2): 1.562e+01 m\n",
      "Velocity at aphelion (v2): 32.000 m/s\n",
      "Semi-major axis (a): 3.281e+01 m\n",
      "Semi-minor axis (b): 2.795e+01 m\n",
      "Orbital period (T): 11.525 s (0.000 days)\n",
      "Eccentricity (e): -0.523810\n",
      "\n",
      "Earth's orbit:\n",
      "Orbital period: 365.26 days\n",
      "\n",
      "Halley's Comet orbit:\n",
      "Orbital period: 77.73 years\n"
     ]
    }
   ],
   "source": [
    "# Exercise 2.6: Planetary orbits\n",
    "import math\n",
    "\n",
    "# Constants\n",
    "G = 6.67430e-11  # Gravitational constant in m^3 kg^-1 s^-2\n",
    "M = 1.98847e30   # Mass of the Sun in kg\n",
    "\n",
    "def calculate_v2(v1, l1, l2):\n",
    "    a = 1\n",
    "    b = -2 * G * M / (v1 * l1)\n",
    "    c = -(v1**2 - 2 * G * M / l1)\n",
    "    \n",
    "    # Solve quadratic equation\n",
    "    discriminant = b**2 - 4*a*c\n",
    "    return (-b - math.sqrt(discriminant)) / (2*a)  # We want the smaller root\n",
    "\n",
    "def calculate_orbital_properties(l1, v1):\n",
    "    # Calculate l2 and v2\n",
    "    v2 = calculate_v2(v1, l1, None)\n",
    "    l2 = l1 * v1 / v2\n",
    "    \n",
    "    # Calculate other orbital properties\n",
    "    a = (l1 + l2) / 2  # Semi-major axis\n",
    "    b = math.sqrt(l1 * l2)  # Semi-minor axis\n",
    "    T = 2 * math.pi * a * b / (l1 * v1)  # Orbital period\n",
    "    e = (l2 - l1) / (l2 + l1)  # Eccentricity\n",
    "    \n",
    "    return l2, v2, a, b, T, e\n",
    "\n",
    "# Get user input\n",
    "l1 = float(input(\"Enter the distance at perihelion (m): \"))\n",
    "v1 = float(input(\"Enter the velocity at perihelion (m/s): \"))\n",
    "\n",
    "# Calculate and print results\n",
    "l2, v2, a, b, T, e = calculate_orbital_properties(l1, v1)\n",
    "\n",
    "print(f\"\\nResults:\")\n",
    "print(f\"Distance at aphelion (l2): {l2:.3e} m\")\n",
    "print(f\"Velocity at aphelion (v2): {v2:.3f} m/s\")\n",
    "print(f\"Semi-major axis (a): {a:.3e} m\")\n",
    "print(f\"Semi-minor axis (b): {b:.3e} m\")\n",
    "print(f\"Orbital period (T): {T:.3f} s ({T/3600/24:.3f} days)\")\n",
    "print(f\"Eccentricity (e): {e:.6f}\")\n",
    "\n",
    "# Calculate for Earth and Halley's Comet\n",
    "print(\"\\nEarth's orbit:\")\n",
    "l1_earth, v1_earth = 1.4710e11, 3.0287e4\n",
    "l2, v2, a, b, T, e = calculate_orbital_properties(l1_earth, v1_earth)\n",
    "print(f\"Orbital period: {T/3600/24:.2f} days\")\n",
    "\n",
    "print(\"\\nHalley's Comet orbit:\")\n",
    "l1_halley, v1_halley = 8.7830e10, 5.4529e4\n",
    "l2, v2, a, b, T, e = calculate_orbital_properties(l1_halley, v1_halley)\n",
    "print(f\"Orbital period: {T/3600/24/365.25:.2f} years\")"
   ]
  },
  {
   "cell_type": "code",
   "execution_count": 8,
   "id": "12f19af2-6f07-4493-ad3d-b5be7594bff7",
   "metadata": {},
   "outputs": [
    {
     "name": "stdout",
     "output_type": "stream",
     "text": [
      "C(0) = 1\n",
      "C(1) = 2\n",
      "C(2) = 5\n",
      "C(3) = 14\n",
      "C(4) = 42\n",
      "C(5) = 132\n",
      "C(6) = 429\n",
      "C(7) = 1430\n",
      "C(8) = 4862\n",
      "C(9) = 16796\n",
      "C(10) = 58786\n",
      "C(11) = 208012\n",
      "C(12) = 742900\n",
      "C(13) = 2674440\n",
      "C(14) = 9694845\n",
      "C(15) = 35357670\n",
      "C(16) = 129644790\n",
      "C(17) = 477638700\n",
      "C(18) = 1767263190\n",
      "\n",
      "Total Catalan numbers <= 1 billion: 19\n",
      "Largest Catalan number <= 1 billion: 1767263190\n"
     ]
    }
   ],
   "source": [
    "# Exercise 2.7: Catalan numbers\n",
    "def next_catalan(n, Cn):\n",
    "    return ((4 * n + 2) * Cn) // (n + 2)\n",
    "\n",
    "# Initialize the first Catalan number\n",
    "C = [1]\n",
    "n = 0\n",
    "\n",
    "# Generate Catalan numbers up to one billion\n",
    "while C[-1] <= 1_000_000_000:\n",
    "    n += 1\n",
    "    next_C = next_catalan(n, C[-1])\n",
    "    C.append(next_C)\n",
    "\n",
    "# Print the Catalan numbers\n",
    "for i, Cn in enumerate(C):\n",
    "    print(f\"C({i}) = {Cn}\")\n",
    "\n",
    "print(f\"\\nTotal Catalan numbers <= 1 billion: {len(C)}\")\n",
    "print(f\"Largest Catalan number <= 1 billion: {C[-1]}\")"
   ]
  },
  {
   "cell_type": "code",
   "execution_count": 9,
   "id": "77fa3712-9526-49ce-9149-d704f29b83e8",
   "metadata": {},
   "outputs": [
    {
     "name": "stdout",
     "output_type": "stream",
     "text": [
      "Madelung constant for L = 100: -1.7418198158396654\n"
     ]
    }
   ],
   "source": [
    "# Exercise 2.9: The Madelung constant\n",
    "\n",
    "import numpy as np\n",
    "\n",
    "def madelung_constant(L):\n",
    "    M = 0\n",
    "    for i in range(-L, L+1):\n",
    "        for j in range(-L, L+1):\n",
    "            for k in range(-L, L+1):\n",
    "                if i == 0 and j == 0 and k == 0:\n",
    "                    continue\n",
    "                r = np.sqrt(i**2 + j**2 + k**2)\n",
    "                M += (-1)**(i + j + k) / r\n",
    "    return M\n",
    "\n",
    "# Choose a large L value\n",
    "L = 100\n",
    "\n",
    "print(f\"Madelung constant for L = {L}: {madelung_constant(L)}\")"
   ]
  },
  {
   "cell_type": "code",
   "execution_count": 10,
   "id": "19274c15-8ad1-46ec-a992-5bd10077e2ac",
   "metadata": {},
   "outputs": [
    {
     "name": "stdout",
     "output_type": "stream",
     "text": [
      "a) Binding energy for A=58, Z=28: 497.56 MeV\n",
      "b) Binding energy per nucleon: 8.58 MeV\n",
      "c) For Z=28, most stable A: 62\n",
      "   Maximum binding energy per nucleon: 8.70 MeV\n",
      "Z=1, most stable A=3, B/A=0.37 MeV\n",
      "Z=2, most stable A=4, B/A=5.32 MeV\n",
      "Z=3, most stable A=7, B/A=5.28 MeV\n",
      "Z=4, most stable A=8, B/A=6.47 MeV\n",
      "Z=5, most stable A=11, B/A=6.65 MeV\n",
      "Z=6, most stable A=14, B/A=7.20 MeV\n",
      "Z=7, most stable A=15, B/A=7.33 MeV\n",
      "Z=8, most stable A=18, B/A=7.72 MeV\n",
      "Z=9, most stable A=19, B/A=7.74 MeV\n",
      "Z=10, most stable A=22, B/A=8.04 MeV\n",
      "Z=11, most stable A=25, B/A=8.03 MeV\n",
      "Z=12, most stable A=26, B/A=8.24 MeV\n",
      "Z=13, most stable A=29, B/A=8.24 MeV\n",
      "Z=14, most stable A=30, B/A=8.38 MeV\n",
      "Z=15, most stable A=33, B/A=8.39 MeV\n",
      "Z=16, most stable A=36, B/A=8.49 MeV\n",
      "Z=17, most stable A=37, B/A=8.48 MeV\n",
      "Z=18, most stable A=40, B/A=8.57 MeV\n",
      "Z=19, most stable A=43, B/A=8.55 MeV\n",
      "Z=20, most stable A=44, B/A=8.63 MeV\n",
      "Z=21, most stable A=47, B/A=8.61 MeV\n",
      "Z=22, most stable A=48, B/A=8.66 MeV\n",
      "Z=23, most stable A=51, B/A=8.65 MeV\n",
      "Z=24, most stable A=54, B/A=8.69 MeV\n",
      "Z=25, most stable A=55, B/A=8.66 MeV\n",
      "Z=26, most stable A=58, B/A=8.70 MeV\n",
      "Z=27, most stable A=61, B/A=8.68 MeV\n",
      "Z=28, most stable A=62, B/A=8.70 MeV\n",
      "Z=29, most stable A=65, B/A=8.68 MeV\n",
      "Z=30, most stable A=68, B/A=8.70 MeV\n",
      "Z=31, most stable A=69, B/A=8.68 MeV\n",
      "Z=32, most stable A=72, B/A=8.69 MeV\n",
      "Z=33, most stable A=75, B/A=8.67 MeV\n",
      "Z=34, most stable A=76, B/A=8.68 MeV\n",
      "Z=35, most stable A=79, B/A=8.65 MeV\n",
      "Z=36, most stable A=82, B/A=8.66 MeV\n",
      "Z=37, most stable A=85, B/A=8.63 MeV\n",
      "Z=38, most stable A=86, B/A=8.64 MeV\n",
      "Z=39, most stable A=89, B/A=8.61 MeV\n",
      "Z=40, most stable A=92, B/A=8.61 MeV\n",
      "Z=41, most stable A=93, B/A=8.59 MeV\n",
      "Z=42, most stable A=96, B/A=8.59 MeV\n",
      "Z=43, most stable A=99, B/A=8.56 MeV\n",
      "Z=44, most stable A=102, B/A=8.56 MeV\n",
      "Z=45, most stable A=103, B/A=8.53 MeV\n",
      "Z=46, most stable A=106, B/A=8.53 MeV\n",
      "Z=47, most stable A=109, B/A=8.50 MeV\n",
      "Z=48, most stable A=110, B/A=8.49 MeV\n",
      "Z=49, most stable A=113, B/A=8.47 MeV\n",
      "Z=50, most stable A=116, B/A=8.46 MeV\n",
      "Z=51, most stable A=119, B/A=8.43 MeV\n",
      "Z=52, most stable A=120, B/A=8.42 MeV\n",
      "Z=53, most stable A=123, B/A=8.40 MeV\n",
      "Z=54, most stable A=126, B/A=8.39 MeV\n",
      "Z=55, most stable A=129, B/A=8.36 MeV\n",
      "Z=56, most stable A=130, B/A=8.35 MeV\n",
      "Z=57, most stable A=133, B/A=8.32 MeV\n",
      "Z=58, most stable A=136, B/A=8.31 MeV\n",
      "Z=59, most stable A=139, B/A=8.29 MeV\n",
      "Z=60, most stable A=140, B/A=8.27 MeV\n",
      "Z=61, most stable A=143, B/A=8.25 MeV\n",
      "Z=62, most stable A=146, B/A=8.23 MeV\n",
      "Z=63, most stable A=149, B/A=8.21 MeV\n",
      "Z=64, most stable A=150, B/A=8.19 MeV\n",
      "Z=65, most stable A=153, B/A=8.17 MeV\n",
      "Z=66, most stable A=156, B/A=8.15 MeV\n",
      "Z=67, most stable A=159, B/A=8.13 MeV\n",
      "Z=68, most stable A=162, B/A=8.11 MeV\n",
      "Z=69, most stable A=163, B/A=8.09 MeV\n",
      "Z=70, most stable A=166, B/A=8.07 MeV\n",
      "Z=71, most stable A=169, B/A=8.05 MeV\n",
      "Z=72, most stable A=172, B/A=8.03 MeV\n",
      "Z=73, most stable A=175, B/A=8.00 MeV\n",
      "Z=74, most stable A=176, B/A=7.99 MeV\n",
      "Z=75, most stable A=179, B/A=7.96 MeV\n",
      "Z=76, most stable A=182, B/A=7.95 MeV\n",
      "Z=77, most stable A=185, B/A=7.92 MeV\n",
      "Z=78, most stable A=188, B/A=7.90 MeV\n",
      "Z=79, most stable A=191, B/A=7.88 MeV\n",
      "Z=80, most stable A=192, B/A=7.86 MeV\n",
      "Z=81, most stable A=195, B/A=7.84 MeV\n",
      "Z=82, most stable A=198, B/A=7.82 MeV\n",
      "Z=83, most stable A=201, B/A=7.79 MeV\n",
      "Z=84, most stable A=204, B/A=7.78 MeV\n",
      "Z=85, most stable A=205, B/A=7.75 MeV\n",
      "Z=86, most stable A=208, B/A=7.74 MeV\n",
      "Z=87, most stable A=211, B/A=7.71 MeV\n",
      "Z=88, most stable A=214, B/A=7.69 MeV\n",
      "Z=89, most stable A=217, B/A=7.67 MeV\n",
      "Z=90, most stable A=220, B/A=7.65 MeV\n",
      "Z=91, most stable A=223, B/A=7.63 MeV\n",
      "Z=92, most stable A=224, B/A=7.61 MeV\n",
      "Z=93, most stable A=227, B/A=7.58 MeV\n",
      "Z=94, most stable A=230, B/A=7.57 MeV\n",
      "Z=95, most stable A=233, B/A=7.54 MeV\n",
      "Z=96, most stable A=236, B/A=7.52 MeV\n",
      "Z=97, most stable A=239, B/A=7.50 MeV\n",
      "Z=98, most stable A=242, B/A=7.48 MeV\n",
      "Z=99, most stable A=243, B/A=7.46 MeV\n",
      "Z=100, most stable A=246, B/A=7.44 MeV\n",
      "\n",
      "Maximum binding energy per nucleon occurs at Z=28\n"
     ]
    }
   ],
   "source": [
    "# Exercise 2.10: The semi-empirical mass formula\n",
    "\n",
    "import numpy as np\n",
    "\n",
    "def binding_energy(A, Z):\n",
    "    a1, a2, a3, a4 = 15.8, 18.3, 0.714, 23.2\n",
    "    \n",
    "    if A % 2 == 1:\n",
    "        a5 = 0\n",
    "    elif A % 2 == 0 and Z % 2 == 0:\n",
    "        a5 = 12.0\n",
    "    else:\n",
    "        a5 = -12.0\n",
    "    \n",
    "    B = (a1 * A - a2 * A**(2/3) - a3 * Z**2 / A**(1/3) \n",
    "         - a4 * (A - 2*Z)**2 / A + a5 / A**(1/2))\n",
    "    \n",
    "    return B\n",
    "\n",
    "# Part a\n",
    "A, Z = 58, 28\n",
    "B = binding_energy(A, Z)\n",
    "print(f\"a) Binding energy for A={A}, Z={Z}: {B:.2f} MeV\")\n",
    "\n",
    "# Part b\n",
    "B_per_nucleon = B / A\n",
    "print(f\"b) Binding energy per nucleon: {B_per_nucleon:.2f} MeV\")\n",
    "\n",
    "# Part c\n",
    "def find_most_stable(Z):\n",
    "    max_binding = 0\n",
    "    most_stable_A = Z\n",
    "    for A in range(Z, 3*Z + 1):\n",
    "        B = binding_energy(A, Z) / A\n",
    "        if B > max_binding:\n",
    "            max_binding = B\n",
    "            most_stable_A = A\n",
    "    return most_stable_A, max_binding\n",
    "\n",
    "Z = 28\n",
    "most_stable_A, max_binding = find_most_stable(Z)\n",
    "print(f\"c) For Z={Z}, most stable A: {most_stable_A}\")\n",
    "print(f\"   Maximum binding energy per nucleon: {max_binding:.2f} MeV\")\n",
    "\n",
    "# Part d\n",
    "max_Z = 0\n",
    "max_binding_overall = 0\n",
    "for Z in range(1, 101):\n",
    "    most_stable_A, max_binding = find_most_stable(Z)\n",
    "    print(f\"Z={Z}, most stable A={most_stable_A}, B/A={max_binding:.2f} MeV\")\n",
    "    if max_binding > max_binding_overall:\n",
    "        max_binding_overall = max_binding\n",
    "        max_Z = Z\n",
    "\n",
    "print(f\"\\nMaximum binding energy per nucleon occurs at Z={max_Z}\")"
   ]
  },
  {
   "cell_type": "code",
   "execution_count": null,
   "id": "c71d9f4c-9b35-4398-8326-0461522141c8",
   "metadata": {},
   "outputs": [],
   "source": [
    "# Exercise 2.11: Binomial coefficients\n",
    "\n",
    "def binomial(n, k):\n",
    "    if k == 0:\n",
    "        return 1\n",
    "    return int(n * binomial(n-1, k-1) / k)\n",
    "\n",
    "# Part a: The binomial function is defined above\n",
    "\n",
    "# Part b: Pascal's triangle\n",
    "def print_pascal_triangle(rows):\n",
    "    for n in range(rows):\n",
    "        line = \"\"\n",
    "        for k in range(n + 1):\n",
    "            line += f\"{binomial(n, k):5d}\"\n",
    "        print(line)\n",
    "\n",
    "print(\"Pascal's Triangle (20 rows):\")\n",
    "print_pascal_triangle(20)\n",
    "\n",
    "# Part c: Coin toss probabilities\n",
    "def coin_toss_probability(n, k):\n",
    "    return binomial(n, k) / (2**n)\n",
    "\n",
    "n, k = 100, 60\n",
    "prob_exactly_60 = coin_toss_probability(n, k)\n",
    "prob_60_or_more = sum(coin_toss_probability(n, i) for i in range(k, n+1))\n",
    "\n",
    "print(f\"\\nProbability of exactly 60 heads in 100 tosses: {prob_exactly_60:.6e}\")\n",
    "print(f\"Probability of 60 or more heads in 100 tosses: {prob_60_or_more:.6e}\")"
   ]
  },
  {
   "cell_type": "code",
   "execution_count": 11,
   "id": "79ffa412-fc5c-45b2-9a91-4e5d782c40f2",
   "metadata": {
    "tags": []
   },
   "outputs": [
    {
     "name": "stdout",
     "output_type": "stream",
     "text": [
      "Primes up to 10000:\n",
      "[2, 3, 5, 7, 11, 13, 17, 19, 23, 29, 31, 37, 41, 43, 47, 53, 59, 61, 67, 71, 73, 79, 83, 89, 97, 101, 103, 107, 109, 113, 127, 131, 137, 139, 149, 151, 157, 163, 167, 173, 179, 181, 191, 193, 197, 199, 211, 223, 227, 229, 233, 239, 241, 251, 257, 263, 269, 271, 277, 281, 283, 293, 307, 311, 313, 317, 331, 337, 347, 349, 353, 359, 367, 373, 379, 383, 389, 397, 401, 409, 419, 421, 431, 433, 439, 443, 449, 457, 461, 463, 467, 479, 487, 491, 499, 503, 509, 521, 523, 541, 547, 557, 563, 569, 571, 577, 587, 593, 599, 601, 607, 613, 617, 619, 631, 641, 643, 647, 653, 659, 661, 673, 677, 683, 691, 701, 709, 719, 727, 733, 739, 743, 751, 757, 761, 769, 773, 787, 797, 809, 811, 821, 823, 827, 829, 839, 853, 857, 859, 863, 877, 881, 883, 887, 907, 911, 919, 929, 937, 941, 947, 953, 967, 971, 977, 983, 991, 997, 1009, 1013, 1019, 1021, 1031, 1033, 1039, 1049, 1051, 1061, 1063, 1069, 1087, 1091, 1093, 1097, 1103, 1109, 1117, 1123, 1129, 1151, 1153, 1163, 1171, 1181, 1187, 1193, 1201, 1213, 1217, 1223, 1229, 1231, 1237, 1249, 1259, 1277, 1279, 1283, 1289, 1291, 1297, 1301, 1303, 1307, 1319, 1321, 1327, 1361, 1367, 1373, 1381, 1399, 1409, 1423, 1427, 1429, 1433, 1439, 1447, 1451, 1453, 1459, 1471, 1481, 1483, 1487, 1489, 1493, 1499, 1511, 1523, 1531, 1543, 1549, 1553, 1559, 1567, 1571, 1579, 1583, 1597, 1601, 1607, 1609, 1613, 1619, 1621, 1627, 1637, 1657, 1663, 1667, 1669, 1693, 1697, 1699, 1709, 1721, 1723, 1733, 1741, 1747, 1753, 1759, 1777, 1783, 1787, 1789, 1801, 1811, 1823, 1831, 1847, 1861, 1867, 1871, 1873, 1877, 1879, 1889, 1901, 1907, 1913, 1931, 1933, 1949, 1951, 1973, 1979, 1987, 1993, 1997, 1999, 2003, 2011, 2017, 2027, 2029, 2039, 2053, 2063, 2069, 2081, 2083, 2087, 2089, 2099, 2111, 2113, 2129, 2131, 2137, 2141, 2143, 2153, 2161, 2179, 2203, 2207, 2213, 2221, 2237, 2239, 2243, 2251, 2267, 2269, 2273, 2281, 2287, 2293, 2297, 2309, 2311, 2333, 2339, 2341, 2347, 2351, 2357, 2371, 2377, 2381, 2383, 2389, 2393, 2399, 2411, 2417, 2423, 2437, 2441, 2447, 2459, 2467, 2473, 2477, 2503, 2521, 2531, 2539, 2543, 2549, 2551, 2557, 2579, 2591, 2593, 2609, 2617, 2621, 2633, 2647, 2657, 2659, 2663, 2671, 2677, 2683, 2687, 2689, 2693, 2699, 2707, 2711, 2713, 2719, 2729, 2731, 2741, 2749, 2753, 2767, 2777, 2789, 2791, 2797, 2801, 2803, 2819, 2833, 2837, 2843, 2851, 2857, 2861, 2879, 2887, 2897, 2903, 2909, 2917, 2927, 2939, 2953, 2957, 2963, 2969, 2971, 2999, 3001, 3011, 3019, 3023, 3037, 3041, 3049, 3061, 3067, 3079, 3083, 3089, 3109, 3119, 3121, 3137, 3163, 3167, 3169, 3181, 3187, 3191, 3203, 3209, 3217, 3221, 3229, 3251, 3253, 3257, 3259, 3271, 3299, 3301, 3307, 3313, 3319, 3323, 3329, 3331, 3343, 3347, 3359, 3361, 3371, 3373, 3389, 3391, 3407, 3413, 3433, 3449, 3457, 3461, 3463, 3467, 3469, 3491, 3499, 3511, 3517, 3527, 3529, 3533, 3539, 3541, 3547, 3557, 3559, 3571, 3581, 3583, 3593, 3607, 3613, 3617, 3623, 3631, 3637, 3643, 3659, 3671, 3673, 3677, 3691, 3697, 3701, 3709, 3719, 3727, 3733, 3739, 3761, 3767, 3769, 3779, 3793, 3797, 3803, 3821, 3823, 3833, 3847, 3851, 3853, 3863, 3877, 3881, 3889, 3907, 3911, 3917, 3919, 3923, 3929, 3931, 3943, 3947, 3967, 3989, 4001, 4003, 4007, 4013, 4019, 4021, 4027, 4049, 4051, 4057, 4073, 4079, 4091, 4093, 4099, 4111, 4127, 4129, 4133, 4139, 4153, 4157, 4159, 4177, 4201, 4211, 4217, 4219, 4229, 4231, 4241, 4243, 4253, 4259, 4261, 4271, 4273, 4283, 4289, 4297, 4327, 4337, 4339, 4349, 4357, 4363, 4373, 4391, 4397, 4409, 4421, 4423, 4441, 4447, 4451, 4457, 4463, 4481, 4483, 4493, 4507, 4513, 4517, 4519, 4523, 4547, 4549, 4561, 4567, 4583, 4591, 4597, 4603, 4621, 4637, 4639, 4643, 4649, 4651, 4657, 4663, 4673, 4679, 4691, 4703, 4721, 4723, 4729, 4733, 4751, 4759, 4783, 4787, 4789, 4793, 4799, 4801, 4813, 4817, 4831, 4861, 4871, 4877, 4889, 4903, 4909, 4919, 4931, 4933, 4937, 4943, 4951, 4957, 4967, 4969, 4973, 4987, 4993, 4999, 5003, 5009, 5011, 5021, 5023, 5039, 5051, 5059, 5077, 5081, 5087, 5099, 5101, 5107, 5113, 5119, 5147, 5153, 5167, 5171, 5179, 5189, 5197, 5209, 5227, 5231, 5233, 5237, 5261, 5273, 5279, 5281, 5297, 5303, 5309, 5323, 5333, 5347, 5351, 5381, 5387, 5393, 5399, 5407, 5413, 5417, 5419, 5431, 5437, 5441, 5443, 5449, 5471, 5477, 5479, 5483, 5501, 5503, 5507, 5519, 5521, 5527, 5531, 5557, 5563, 5569, 5573, 5581, 5591, 5623, 5639, 5641, 5647, 5651, 5653, 5657, 5659, 5669, 5683, 5689, 5693, 5701, 5711, 5717, 5737, 5741, 5743, 5749, 5779, 5783, 5791, 5801, 5807, 5813, 5821, 5827, 5839, 5843, 5849, 5851, 5857, 5861, 5867, 5869, 5879, 5881, 5897, 5903, 5923, 5927, 5939, 5953, 5981, 5987, 6007, 6011, 6029, 6037, 6043, 6047, 6053, 6067, 6073, 6079, 6089, 6091, 6101, 6113, 6121, 6131, 6133, 6143, 6151, 6163, 6173, 6197, 6199, 6203, 6211, 6217, 6221, 6229, 6247, 6257, 6263, 6269, 6271, 6277, 6287, 6299, 6301, 6311, 6317, 6323, 6329, 6337, 6343, 6353, 6359, 6361, 6367, 6373, 6379, 6389, 6397, 6421, 6427, 6449, 6451, 6469, 6473, 6481, 6491, 6521, 6529, 6547, 6551, 6553, 6563, 6569, 6571, 6577, 6581, 6599, 6607, 6619, 6637, 6653, 6659, 6661, 6673, 6679, 6689, 6691, 6701, 6703, 6709, 6719, 6733, 6737, 6761, 6763, 6779, 6781, 6791, 6793, 6803, 6823, 6827, 6829, 6833, 6841, 6857, 6863, 6869, 6871, 6883, 6899, 6907, 6911, 6917, 6947, 6949, 6959, 6961, 6967, 6971, 6977, 6983, 6991, 6997, 7001, 7013, 7019, 7027, 7039, 7043, 7057, 7069, 7079, 7103, 7109, 7121, 7127, 7129, 7151, 7159, 7177, 7187, 7193, 7207, 7211, 7213, 7219, 7229, 7237, 7243, 7247, 7253, 7283, 7297, 7307, 7309, 7321, 7331, 7333, 7349, 7351, 7369, 7393, 7411, 7417, 7433, 7451, 7457, 7459, 7477, 7481, 7487, 7489, 7499, 7507, 7517, 7523, 7529, 7537, 7541, 7547, 7549, 7559, 7561, 7573, 7577, 7583, 7589, 7591, 7603, 7607, 7621, 7639, 7643, 7649, 7669, 7673, 7681, 7687, 7691, 7699, 7703, 7717, 7723, 7727, 7741, 7753, 7757, 7759, 7789, 7793, 7817, 7823, 7829, 7841, 7853, 7867, 7873, 7877, 7879, 7883, 7901, 7907, 7919, 7927, 7933, 7937, 7949, 7951, 7963, 7993, 8009, 8011, 8017, 8039, 8053, 8059, 8069, 8081, 8087, 8089, 8093, 8101, 8111, 8117, 8123, 8147, 8161, 8167, 8171, 8179, 8191, 8209, 8219, 8221, 8231, 8233, 8237, 8243, 8263, 8269, 8273, 8287, 8291, 8293, 8297, 8311, 8317, 8329, 8353, 8363, 8369, 8377, 8387, 8389, 8419, 8423, 8429, 8431, 8443, 8447, 8461, 8467, 8501, 8513, 8521, 8527, 8537, 8539, 8543, 8563, 8573, 8581, 8597, 8599, 8609, 8623, 8627, 8629, 8641, 8647, 8663, 8669, 8677, 8681, 8689, 8693, 8699, 8707, 8713, 8719, 8731, 8737, 8741, 8747, 8753, 8761, 8779, 8783, 8803, 8807, 8819, 8821, 8831, 8837, 8839, 8849, 8861, 8863, 8867, 8887, 8893, 8923, 8929, 8933, 8941, 8951, 8963, 8969, 8971, 8999, 9001, 9007, 9011, 9013, 9029, 9041, 9043, 9049, 9059, 9067, 9091, 9103, 9109, 9127, 9133, 9137, 9151, 9157, 9161, 9173, 9181, 9187, 9199, 9203, 9209, 9221, 9227, 9239, 9241, 9257, 9277, 9281, 9283, 9293, 9311, 9319, 9323, 9337, 9341, 9343, 9349, 9371, 9377, 9391, 9397, 9403, 9413, 9419, 9421, 9431, 9433, 9437, 9439, 9461, 9463, 9467, 9473, 9479, 9491, 9497, 9511, 9521, 9533, 9539, 9547, 9551, 9587, 9601, 9613, 9619, 9623, 9629, 9631, 9643, 9649, 9661, 9677, 9679, 9689, 9697, 9719, 9721, 9733, 9739, 9743, 9749, 9767, 9769, 9781, 9787, 9791, 9803, 9811, 9817, 9829, 9833, 9839, 9851, 9857, 9859, 9871, 9883, 9887, 9901, 9907, 9923, 9929, 9931, 9941, 9949, 9967, 9973]\n",
      "Total number of primes found: 1229\n"
     ]
    }
   ],
   "source": [
    "# Exercise 2.12: Prime numbers\n",
    "\n",
    "import math\n",
    "\n",
    "def find_primes(limit):\n",
    "    primes = [2]\n",
    "    for n in range(3, limit + 1, 2):  # Only check odd numbers\n",
    "        sqrt_n = int(math.sqrt(n))\n",
    "        for p in primes:\n",
    "            if p > sqrt_n:\n",
    "                primes.append(n)\n",
    "                break\n",
    "            if n % p == 0:\n",
    "                break\n",
    "        else:\n",
    "            primes.append(n)\n",
    "    return primes\n",
    "\n",
    "limit = 10000\n",
    "primes = find_primes(limit)\n",
    "print(f\"Primes up to {limit}:\")\n",
    "print(primes)\n",
    "print(f\"Total number of primes found: {len(primes)}\")"
   ]
  },
  {
   "cell_type": "code",
   "execution_count": 12,
   "id": "6439bc11-1a82-412b-925b-21f37c85bbe3",
   "metadata": {
    "tags": []
   },
   "outputs": [
    {
     "name": "stdout",
     "output_type": "stream",
     "text": [
      "Catalan number C100:\n",
      "896519947090131496687170070074100632420837521538745909320\n",
      "\n",
      "Greatest Common Divisor of 108 and 192:\n",
      "12\n"
     ]
    }
   ],
   "source": [
    "# Exercise 2.13: Recursion\n",
    "\n",
    "# Part a: Catalan numbers\n",
    "def catalan(n):\n",
    "    if n == 0:\n",
    "        return 1\n",
    "    return ((4 * n - 2) * catalan(n - 1)) // (n + 1)\n",
    "\n",
    "print(\"Catalan number C100:\")\n",
    "print(catalan(100))\n",
    "\n",
    "# Part b: Greatest Common Divisor\n",
    "def gcd(m, n):\n",
    "    if n == 0:\n",
    "        return m\n",
    "    return gcd(n, m % n)\n",
    "\n",
    "m, n = 108, 192\n",
    "result = gcd(m, n)\n",
    "print(f\"\\nGreatest Common Divisor of {m} and {n}:\")\n",
    "print(result)"
   ]
  },
  {
   "cell_type": "code",
   "execution_count": null,
   "id": "2fe23cbe-c177-4289-b713-be847a5f7eb6",
   "metadata": {},
   "outputs": [],
   "source": []
  }
 ],
 "metadata": {
  "kernelspec": {
   "display_name": "Python 3 (ipykernel)",
   "language": "python",
   "name": "python3"
  },
  "language_info": {
   "codemirror_mode": {
    "name": "ipython",
    "version": 3
   },
   "file_extension": ".py",
   "mimetype": "text/x-python",
   "name": "python",
   "nbconvert_exporter": "python",
   "pygments_lexer": "ipython3",
   "version": "3.7.9"
  }
 },
 "nbformat": 4,
 "nbformat_minor": 5
}
